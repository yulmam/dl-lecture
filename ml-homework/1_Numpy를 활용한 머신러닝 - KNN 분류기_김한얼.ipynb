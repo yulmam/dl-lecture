{
  "nbformat": 4,
  "nbformat_minor": 0,
  "metadata": {
    "colab": {
      "name": "1_Numpy를 활용한 머신러닝 - KNN 분류기.ipynb",
      "provenance": [],
      "collapsed_sections": [],
      "toc_visible": true
    },
    "kernelspec": {
      "display_name": "Python 3",
      "language": "python",
      "name": "python3"
    },
    "language_info": {
      "codemirror_mode": {
        "name": "ipython",
        "version": 3
      },
      "file_extension": ".py",
      "mimetype": "text/x-python",
      "name": "python",
      "nbconvert_exporter": "python",
      "pygments_lexer": "ipython3",
      "version": "3.6.9"
    },
    "toc": {
      "base_numbering": 1,
      "nav_menu": {},
      "number_sections": false,
      "sideBar": true,
      "skip_h1_title": false,
      "title_cell": "Table of Contents",
      "title_sidebar": "Contents",
      "toc_cell": false,
      "toc_position": {},
      "toc_section_display": true,
      "toc_window_display": false
    },
    "varInspector": {
      "cols": {
        "lenName": 16,
        "lenType": 16,
        "lenVar": 40
      },
      "kernels_config": {
        "python": {
          "delete_cmd_postfix": "",
          "delete_cmd_prefix": "del ",
          "library": "var_list.py",
          "varRefreshCmd": "print(var_dic_list())"
        },
        "r": {
          "delete_cmd_postfix": ") ",
          "delete_cmd_prefix": "rm(",
          "library": "var_list.r",
          "varRefreshCmd": "cat(var_dic_list()) "
        }
      },
      "types_to_exclude": [
        "module",
        "function",
        "builtin_function_or_method",
        "instance",
        "_Feature"
      ],
      "window_display": false
    }
  },
  "cells": [
    {
      "cell_type": "markdown",
      "metadata": {
        "id": "JwXVP87OO6RW"
      },
      "source": [
        "<i><b>Public AI</b></i>\n",
        "<br>\n",
        "\n",
        "# Numpy을 활용한 머신러닝 구현 - KNN 분류기\n",
        "\n",
        "\n",
        "### _Objective_\n",
        "1. ** KNN 알고리즘 개괄** : 머신러닝 방법론 중 간단하면서 중요한 방법론인 KNN(K Nearest Neighborhood)의 개념을 배웁니다. <br>\n",
        "2. ** KNN Numpy로 구현** : Numpy를 이용하여 KNN을 구현해봅니다. "
      ]
    },
    {
      "cell_type": "code",
      "metadata": {
        "id": "k-o8zDSkO6RZ"
      },
      "source": [
        "%matplotlib inline\n",
        "import numpy as np\n",
        "import matplotlib.pyplot as plt"
      ],
      "execution_count": 2,
      "outputs": []
    },
    {
      "cell_type": "markdown",
      "metadata": {
        "id": "-xLXSgg4O6Rd"
      },
      "source": [
        "# \\[ 1. KNN 알고리즘 개괄 \\]\n",
        "\n",
        "분류 항목을 이미 알고 있는 데이터 집합에서 상위 K개의 가장 유사한 데이터를 살펴보고, K개의 가장 유사한 데이터들 중 다수결(majority vote)를 통해 새로운 데이터의 분류 항목을 결정하는 알고리즘입니다."
      ]
    },
    {
      "cell_type": "markdown",
      "metadata": {
        "id": "34r66vr2O6Re"
      },
      "source": [
        "## 예제 데이터 )  영화 분석 결과\n"
      ]
    },
    {
      "cell_type": "markdown",
      "metadata": {
        "id": "UvPQnmcgyKzr"
      },
      "source": [
        "\n",
        "#### 데이터 ) 각 영화 별 싸움 횟수와 키스 횟수\n",
        "\n",
        "| 영화 제목 | the number of Kick | The number os Kiss | Type |\n",
        "| ------  | ----| ----| --- |\n",
        "| 냉정과열정사이 | 3 | 104 | Romance|\n",
        "| 바람과함께사라지다 | 2 | 100 | Romance |\n",
        "| 아름다운 여인 | 1 | 81 | Romance |\n",
        "| 인정사정볼것없다 | 101 | 10 | Action |\n",
        "| 놈놈놈 | 99 | 5 | Action |\n",
        "| 화랑 | 98 | 2 | Action |\n",
        "| 뜨거운 가슴으로 | 25 | 87 | ? |"
      ]
    },
    {
      "cell_type": "code",
      "metadata": {
        "id": "WrSWb4HgO6Rf"
      },
      "source": [
        "# 0번째 열 : 킥 횟수, 1번째 열 : 키스 횟수\n",
        "dataset = np.array([\n",
        "    [3, 104],\n",
        "    [2, 100],\n",
        "    [1, 81],\n",
        "    [101, 10],\n",
        "    [99, 5],\n",
        "    [98, 2],\n",
        "])\n",
        "\n",
        "labels = np.array(['Romance','Romance','Romance',\n",
        "          'Action','Action','Action'])\n",
        "\n",
        "inX = np.array([25, 87])"
      ],
      "execution_count": 3,
      "outputs": []
    },
    {
      "cell_type": "code",
      "metadata": {
        "colab": {
          "base_uri": "https://localhost:8080/",
          "height": 295
        },
        "id": "qxKF6D9R7pTc",
        "outputId": "efd24078-9fb5-49df-bb27-3f9ae75e1c2f"
      },
      "source": [
        "plt.title(\"The Category of Movie\")\n",
        "plt.scatter(dataset[:3,0],dataset[:3,1],label='Romance',\n",
        "            c='g')\n",
        "plt.scatter(dataset[3:,0],dataset[3:,1],label='Action',\n",
        "            c='r')\n",
        "plt.scatter(25,87,label=\"?\",\n",
        "            c='b')\n",
        "\n",
        "\n",
        "plt.xlabel('The number of Kick')\n",
        "plt.ylabel('The number of Kiss')\n",
        "plt.legend()\n",
        "plt.show()"
      ],
      "execution_count": 4,
      "outputs": [
        {
          "output_type": "display_data",
          "data": {
            "image/png": "[encoded data removed]",
            "text/plain": [
              "<Figure size 432x288 with 1 Axes>"
            ]
          },
          "metadata": {
            "needs_background": "light"
          }
        }
      ]
    },
    {
      "cell_type": "markdown",
      "metadata": {
        "id": "_Eg9V9Xy7pTd"
      },
      "source": [
        "파란 색의 경우는 어느 카테고리에 속할까요? 이 두 가지 특징 \"킥 횟수\"와 \"키스 횟수\"로 미루어 판단하건대, Romance에 가까운 작품으로 판단됩니다. 이를 좀 더 정량적으로 판단하면, 자기의 값과 비슷한, 인근 K개(임의의 수, 보통 20개 미만)의 데이터를 뽑아오고, 그 중에서 다수결을 통해 새로운 데이터의 분류 항목을 결정할 수 있을 것입니다. 이러한 분류 방법을 K-NN이라고 합니다. "
      ]
    },
    {
      "cell_type": "markdown",
      "metadata": {
        "id": "ElsyQ5ceO6Se"
      },
      "source": [
        "# \\[ 2. KNN Numpy로 구현 \\]\n",
        "\n",
        "KNN의 알고리즘 순서는 다음과 같습니다. \n",
        "\n",
        "1. 우리가 분류항목을 알고자 하는 점(inX)와 알고 있는 점들(dataset)과의 모든 점 거리를 계산\n",
        "2. 오름 차순으로 거리의 길이를 정렬\n",
        "3. inX와의 거리가 가장 짧은 K개의 아이템 추출\n",
        "4. K개의 아이템에서 가장 많은 분류 항목 찾기\n",
        "5. 해당 항목 반환\n",
        "\n",
        "KNN의 각 단계별로 코드를 작성해 봅시다. "
      ]
    },
    {
      "cell_type": "markdown",
      "metadata": {
        "id": "oIqeelyg7pTe"
      },
      "source": [
        "## 1. 각 단계별로 Numpy Code 작성하기"
      ]
    },
    {
      "cell_type": "markdown",
      "metadata": {
        "id": "pg57zzbU7pTe"
      },
      "source": [
        "### (1) 우리가 분류항목을 알고자 하는 점 (inX)와 알고 있는 점들(dataset)과의 모든 점 거리를 계산\n",
        "\n",
        "\n",
        "거리 공식은 아래와 같습니다. \n",
        "\n",
        "우리는 알고자 하는 점(inX)와 알고 있는 점들(dataset) 전부와의 거리를 측정해야 합니다.\n",
        "\n",
        "$$\n",
        "point1 = (x_1,y_1), point2 = (x_2,y_2)\\mbox{일 때}\\\\\n",
        "distance\\_between\\_point1\\_and\\_point2 = \\sqrt{(x_1-x_2)^2 + (y_1-y_2)^2}\n",
        "$$"
      ]
    },
    {
      "cell_type": "code",
      "metadata": {
        "id": "gUMVo_sx7pTe"
      },
      "source": [
        "# broadcasting을 이용하면 보다 간결하고 빠른 코드를 작성할 수 있습니다.\n",
        "## ⚠️⚠️⚠️ 반복문, 순회문 사용하지 않고 numpy broadcasting 을 사용해 구현하세요. ⚠️⚠️⚠️\n",
        "\n",
        "# 위 정의한 inX와 그 이외의 모든 점들과의 거리를 계산합니다. \n",
        "# 거리는 위 정의한 l2 distance 을 사용합니다. \n",
        "dists =((dataset[:,0]-inX[0])**2+(dataset[:,1]-inX[1])**2)**(1/2)#기본적인 공식을 사용해 줍니다."
      ],
      "execution_count": 5,
      "outputs": []
    },
    {
      "cell_type": "markdown",
      "metadata": {
        "id": "4AqB-PFZ7pTf"
      },
      "source": [
        "위는 영화 \"뜨거운 가슴으로\"와 다른 데이터 셋과의 거리 차이를 의미합니다.\n",
        "\n",
        "| 영화 제목 | the number of Kick | The number os Kiss | Type | distance from inX|\n",
        "| ------  | ----| ----| --- | --- |\n",
        "| 냉정과열정사이 | 3 | 104 | Romance| 27.8|\n",
        "| 바람과함께사라지다 | 2 | 100 | Romance | 26.4|\n",
        "| 아름다운 여인 | 1 | 81 | Romance |24.7|\n",
        "| 인정사정볼것없다 | 101 | 10 | Action |108.2|\n",
        "| 놈놈놈 | 99 | 5 | Action |110.5|\n",
        "| 화랑 | 98 | 2 | Action |112.0|\n"
      ]
    },
    {
      "cell_type": "markdown",
      "metadata": {
        "id": "Mrc8knhh7pTf"
      },
      "source": [
        "### (2) 오름 차순으로 거리의 길이를 정렬\n"
      ]
    },
    {
      "cell_type": "code",
      "metadata": {
        "colab": {
          "base_uri": "https://localhost:8080/"
        },
        "id": "B2JV3JiV7pTg",
        "outputId": "c4487781-d1ae-4a2b-904b-4c5ed136ed01"
      },
      "source": [
        "# 오름차순으로 정렬된 인덱스 순을 반환\n",
        "# numpy 을 사용해 위 생성한 거리(dists) 에서 거리가 가장 짧은 데이터의 index을 정렬(sort) 합니다. \n",
        "sorted_index = np.argsort(dists) #numpy에서 제공하는 어레이 정렬 기능으로, 값 압축에 유용하다.\n",
        "sorted_index"
      ],
      "execution_count": 6,
      "outputs": [
        {
          "output_type": "execute_result",
          "data": {
            "text/plain": [
              "array([2, 1, 0, 3, 4, 5])"
            ]
          },
          "metadata": {},
          "execution_count": 6
        }
      ]
    },
    {
      "cell_type": "markdown",
      "metadata": {
        "id": "aHw9YLgU7pTg"
      },
      "source": [
        "|인덱스 | 영화 제목 | the number of Kick | The number os Kiss | Type | distance from inX|\n",
        "|---| ------  | ----| ----| --- | --- |\n",
        "|0| 냉정과열정사이 | 3 | 104 | Romance| 27.8|\n",
        "|1| 바람과함께사라지다 | 2 | 100 | Romance | 26.4|\n",
        "|2| 아름다운 여인 | 1 | 81 | Romance |24.7|\n",
        "|3| 인정사정볼것없다 | 101 | 10 | Action |108.2|\n",
        "|4| 놈놈놈 | 99 | 5 | Action |110.5|\n",
        "|5| 화랑 | 98 | 2 | Action |112.0|\n"
      ]
    },
    {
      "cell_type": "markdown",
      "metadata": {
        "id": "h8CZyNmT7pTg"
      },
      "source": [
        "반환된 인덱스 순에 따르면, 아름다운 여인, 바람과함께사라지다, 냉정과열정사이,인정사정볼것없다,놈놈놈,화랑 순으로 정렬됩니다."
      ]
    },
    {
      "cell_type": "markdown",
      "metadata": {
        "id": "xF_xlsE27pTh"
      },
      "source": [
        "### (3) inX와의 거리가 가장 짧은 K개의 아이템 추출\n",
        "\n",
        "이번 예제에서는 제일 가까운 4개를 추출해보도록 하겠습니다."
      ]
    },
    {
      "cell_type": "code",
      "metadata": {
        "id": "CGtHw7Gw7pTh"
      },
      "source": [
        "# 위 생성한 sorted index 을 사용해 거리가 가장 짧은 순서대로 labels 을 나열합니다. \n",
        "sorted_labels = np.array(labels[sorted_index])#정렬을 한 후에\n",
        "# 위 생성한 sorted_labels 을 활용해 거리가 가장 가까운 k=4 개의 데이터를 가져옵니다. \n",
        "K_nearest_labels = sorted_labels[:4]#슬라이싱을 사용한다."
      ],
      "execution_count": 7,
      "outputs": []
    },
    {
      "cell_type": "markdown",
      "metadata": {
        "id": "-69YzYg-8SYL"
      },
      "source": [
        ""
      ]
    },
    {
      "cell_type": "code",
      "metadata": {
        "colab": {
          "base_uri": "https://localhost:8080/"
        },
        "id": "Vud0WvCn7pTh",
        "outputId": "a358c0c2-d4bc-4971-cc53-e87fe14641b6"
      },
      "source": [
        "K_nearest_labels"
      ],
      "execution_count": 8,
      "outputs": [
        {
          "output_type": "execute_result",
          "data": {
            "text/plain": [
              "array(['Romance', 'Romance', 'Romance', 'Action'], dtype='<U7')"
            ]
          },
          "metadata": {},
          "execution_count": 8
        }
      ]
    },
    {
      "cell_type": "markdown",
      "metadata": {
        "id": "s0hS9VGW7pTh"
      },
      "source": [
        "### (4) K개의 아이템에서 가장 많은 분류 항목 찾기"
      ]
    },
    {
      "cell_type": "code",
      "metadata": {
        "colab": {
          "base_uri": "https://localhost:8080/"
        },
        "id": "X3YiykgA7pTh",
        "outputId": "63abe1c8-323e-4026-d7e3-b128de4a41b6"
      },
      "source": [
        "# K 개의 아이템에서 각 항목이 몇번씩 등작했는지 count합니다. \n",
        "count_dict = {}\n",
        "for i in K_nearest_labels:\n",
        "  if i not in count_dict.keys():\n",
        "    count_dict[i]=0 #만약 딕셔너리에 없었다면 추가해준다.\n",
        "  count_dict[i]+=1 #딕셔너리에 있는 값을 증가시켜준다.\n",
        "count_dict"
      ],
      "execution_count": 9,
      "outputs": [
        {
          "output_type": "execute_result",
          "data": {
            "text/plain": [
              "{'Action': 1, 'Romance': 3}"
            ]
          },
          "metadata": {},
          "execution_count": 9
        }
      ]
    },
    {
      "cell_type": "code",
      "metadata": {
        "colab": {
          "base_uri": "https://localhost:8080/",
          "height": 35
        },
        "id": "9eM5gwVb7pTi",
        "outputId": "ecf1b958-3446-4903-c438-1a736c12ef75"
      },
      "source": [
        "# 제일 많이 등장한 횟수를 찾아 반환합니다. \n",
        "# 해당 예제에서는 Romance 을 반환해야 합니다. \n",
        "# np.unique 함수를 사용해야 합니다. \n",
        "_labels, count_labels = np.unique(K_nearest_labels, return_counts=True)#return_counts 옵션을 사용하면 회수를 찾아 반환할 수 있다.\n",
        "_labels[count_labels.argmax()]"
      ],
      "execution_count": 10,
      "outputs": [
        {
          "output_type": "execute_result",
          "data": {
            "application/vnd.google.colaboratory.intrinsic+json": {
              "type": "string"
            },
            "text/plain": [
              "'Romance'"
            ]
          },
          "metadata": {},
          "execution_count": 10
        }
      ]
    },
    {
      "cell_type": "markdown",
      "metadata": {
        "id": "Akd5fD9L7pTi"
      },
      "source": [
        "numpy를 이용해, 위를 보다 간단하게 작성하면 아래와 같이 작성할 수 있습니다."
      ]
    },
    {
      "cell_type": "markdown",
      "metadata": {
        "id": "kqL158y17pTi"
      },
      "source": [
        "## 2. 전체 Numpy Code 작성하기"
      ]
    },
    {
      "cell_type": "code",
      "metadata": {
        "id": "-XaTKFMt7pTi"
      },
      "source": [
        "def classify_knn(inX, dataset, labels, K):\n",
        "    dists = ((dataset[:,0]-inX[0])**2+(dataset[:,1]-inX[1])**2)**(1/2)\n",
        "    sorted_index=np.argsort(dists)\n",
        "    sorted_labels=np.array(labels[sorted_index])\n",
        "    K_nearest_labels=sorted_labels[:K]\n",
        "    count_dict = {}\n",
        "    for i in K_nearest_labels:\n",
        "      if i not in count_dict.keys():\n",
        "        count_dict[i]=0\n",
        "      count_dict[i]+=1\n",
        "    _labels, count_labels = np.unique(K_nearest_labels, return_counts=True)\n",
        "    return _labels[count_labels.argmax()]"
      ],
      "execution_count": 11,
      "outputs": []
    },
    {
      "cell_type": "code",
      "metadata": {
        "id": "iwrQ6jT17pTj"
      },
      "source": [
        "# 아래 function 이 작동하도록 설계하시오."
      ],
      "execution_count": null,
      "outputs": []
    },
    {
      "cell_type": "code",
      "metadata": {
        "colab": {
          "base_uri": "https://localhost:8080/",
          "height": 35
        },
        "id": "WVWnOQTK7pTj",
        "outputId": "c6b4e386-3fbb-4fa5-ec85-5398ff9a0819"
      },
      "source": [
        "# 킥 횟수가 52번, 키스 횟수가 10번인 작품\n",
        "classify_knn([52, 10], dataset, labels, 4)"
      ],
      "execution_count": 12,
      "outputs": [
        {
          "output_type": "execute_result",
          "data": {
            "application/vnd.google.colaboratory.intrinsic+json": {
              "type": "string"
            },
            "text/plain": [
              "'Action'"
            ]
          },
          "metadata": {},
          "execution_count": 12
        }
      ]
    },
    {
      "cell_type": "code",
      "metadata": {
        "colab": {
          "base_uri": "https://localhost:8080/",
          "height": 35
        },
        "id": "JQmAdAs27pTj",
        "outputId": "2e90dd97-b582-428d-e823-5e8bd67c6e56"
      },
      "source": [
        "# 킥 횟수가 19번, 키스 횟수가 72번인 작품\n",
        "classify_knn([19, 72], dataset, labels, 4)"
      ],
      "execution_count": 13,
      "outputs": [
        {
          "output_type": "execute_result",
          "data": {
            "application/vnd.google.colaboratory.intrinsic+json": {
              "type": "string"
            },
            "text/plain": [
              "'Romance'"
            ]
          },
          "metadata": {},
          "execution_count": 13
        }
      ]
    },
    {
      "cell_type": "markdown",
      "metadata": {
        "id": "sqE9TAC1O6UF"
      },
      "source": [
        "#  \n",
        "\n",
        "---\n",
        "\n",
        "    Copyright(c) 2019 by Public AI. All rights reserved.<br>\n",
        "    Writen by PAI, info@publicai.co.kr last updated on 2019/03/04\n",
        "\n",
        "---"
      ]
    }
  ]
}